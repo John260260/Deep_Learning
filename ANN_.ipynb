{
  "nbformat": 4,
  "nbformat_minor": 0,
  "metadata": {
    "colab": {
      "name": "ANN .ipynb",
      "provenance": [],
      "include_colab_link": true
    },
    "kernelspec": {
      "name": "python3",
      "display_name": "Python 3"
    },
    "language_info": {
      "name": "python"
    }
  },
  "cells": [
    {
      "cell_type": "markdown",
      "metadata": {
        "id": "view-in-github",
        "colab_type": "text"
      },
      "source": [
        "<a href=\"https://colab.research.google.com/github/John260260/Deep_Learning/blob/main/ANN_.ipynb\" target=\"_parent\"><img src=\"https://colab.research.google.com/assets/colab-badge.svg\" alt=\"Open In Colab\"/></a>"
      ]
    },
    {
      "cell_type": "code",
      "metadata": {
        "id": "nemK_J2Y8ogZ"
      },
      "source": [
        "!pip install tensorflow"
      ],
      "execution_count": null,
      "outputs": []
    },
    {
      "cell_type": "code",
      "metadata": {
        "id": "9sG3NiYr9qM3"
      },
      "source": [
        "import numpy as np\n",
        "import pandas as pd\n",
        "import tensorflow as tf"
      ],
      "execution_count": null,
      "outputs": []
    },
    {
      "cell_type": "code",
      "metadata": {
        "colab": {
          "base_uri": "https://localhost:8080/",
          "height": 35
        },
        "id": "byoQ8wQd9zuA",
        "outputId": "852e9e1f-1818-4a8d-b15b-efebd09e1852"
      },
      "source": [
        "tf.__version__"
      ],
      "execution_count": null,
      "outputs": [
        {
          "output_type": "execute_result",
          "data": {
            "application/vnd.google.colaboratory.intrinsic+json": {
              "type": "string"
            },
            "text/plain": [
              "'2.6.0'"
            ]
          },
          "metadata": {},
          "execution_count": 18
        }
      ]
    },
    {
      "cell_type": "markdown",
      "metadata": {
        "id": "FiMWk4eg95w4"
      },
      "source": [
        "Part 1 Data Processing"
      ]
    },
    {
      "cell_type": "markdown",
      "metadata": {
        "id": "emEg7bx19-Mq"
      },
      "source": [
        "###importing Dataset"
      ]
    },
    {
      "cell_type": "code",
      "metadata": {
        "id": "5h4y61-D-pC4"
      },
      "source": [
        "dataset=pd.read_excel('/content/drive/MyDrive/Folds5x2_pp.xlsx')\n",
        "x=dataset.iloc[:, :-1].values\n",
        "y=dataset.iloc[:, -1].values "
      ],
      "execution_count": null,
      "outputs": []
    },
    {
      "cell_type": "code",
      "metadata": {
        "colab": {
          "base_uri": "https://localhost:8080/",
          "height": 111
        },
        "id": "UgmAkFeODvwo",
        "outputId": "d2b6eb91-a0c8-444c-eec4-04d1bfc26674"
      },
      "source": [
        "dataset.head(2)"
      ],
      "execution_count": null,
      "outputs": [
        {
          "output_type": "execute_result",
          "data": {
            "text/html": [
              "<div>\n",
              "<style scoped>\n",
              "    .dataframe tbody tr th:only-of-type {\n",
              "        vertical-align: middle;\n",
              "    }\n",
              "\n",
              "    .dataframe tbody tr th {\n",
              "        vertical-align: top;\n",
              "    }\n",
              "\n",
              "    .dataframe thead th {\n",
              "        text-align: right;\n",
              "    }\n",
              "</style>\n",
              "<table border=\"1\" class=\"dataframe\">\n",
              "  <thead>\n",
              "    <tr style=\"text-align: right;\">\n",
              "      <th></th>\n",
              "      <th>AT</th>\n",
              "      <th>V</th>\n",
              "      <th>AP</th>\n",
              "      <th>RH</th>\n",
              "      <th>PE</th>\n",
              "    </tr>\n",
              "  </thead>\n",
              "  <tbody>\n",
              "    <tr>\n",
              "      <th>0</th>\n",
              "      <td>14.96</td>\n",
              "      <td>41.76</td>\n",
              "      <td>1024.07</td>\n",
              "      <td>73.17</td>\n",
              "      <td>463.26</td>\n",
              "    </tr>\n",
              "    <tr>\n",
              "      <th>1</th>\n",
              "      <td>25.18</td>\n",
              "      <td>62.96</td>\n",
              "      <td>1020.04</td>\n",
              "      <td>59.08</td>\n",
              "      <td>444.37</td>\n",
              "    </tr>\n",
              "  </tbody>\n",
              "</table>\n",
              "</div>"
            ],
            "text/plain": [
              "      AT      V       AP     RH      PE\n",
              "0  14.96  41.76  1024.07  73.17  463.26\n",
              "1  25.18  62.96  1020.04  59.08  444.37"
            ]
          },
          "metadata": {},
          "execution_count": 28
        }
      ]
    },
    {
      "cell_type": "code",
      "metadata": {
        "id": "KGoiX93O_rCV"
      },
      "source": [
        "from sklearn.model_selection import train_test_split\n",
        "x_train,x_test,y_train,y_test=train_test_split(x,y,test_size=0.2,random_state=0)"
      ],
      "execution_count": null,
      "outputs": []
    },
    {
      "cell_type": "markdown",
      "metadata": {
        "id": "hvDmwigZA5YI"
      },
      "source": [
        "### Part 2- Building the ANN"
      ]
    },
    {
      "cell_type": "code",
      "metadata": {
        "id": "fRN3nro7AsZI"
      },
      "source": [
        "ann=tf.keras.models.Sequential()"
      ],
      "execution_count": null,
      "outputs": []
    },
    {
      "cell_type": "code",
      "metadata": {
        "id": "-epaY7zuBF15"
      },
      "source": [
        "#adding the input layer and the first hidden layer\n",
        "\n",
        "ann.add(tf.keras.layers.Dense(units=6,activation='relu'))"
      ],
      "execution_count": null,
      "outputs": []
    },
    {
      "cell_type": "code",
      "metadata": {
        "id": "FTY_4DkZCjO5"
      },
      "source": [
        "# adding second hidden layer\n",
        "ann.add(tf.keras.layers.Dense(units=6,activation='relu'))"
      ],
      "execution_count": null,
      "outputs": []
    },
    {
      "cell_type": "code",
      "metadata": {
        "id": "Q1WewGYTBYZ8"
      },
      "source": [
        "#ading output layer\n",
        "\n",
        "ann.add(tf.keras.layers.Dense(units=1))"
      ],
      "execution_count": null,
      "outputs": []
    },
    {
      "cell_type": "markdown",
      "metadata": {
        "id": "ldwzZnHzB-tz"
      },
      "source": [
        "###Part 3 Training the ANN"
      ]
    },
    {
      "cell_type": "code",
      "metadata": {
        "id": "NEsSnb0PBxp0"
      },
      "source": [
        "# compiling the ANN\n",
        "\n",
        "ann.compile(optimizer='adam', loss='mean_squared_error',metrics=['accuracy']) #if categorical data thn the loss= 'binary(2),crossentropy(more than 2 class)',"
      ],
      "execution_count": null,
      "outputs": []
    },
    {
      "cell_type": "code",
      "metadata": {
        "colab": {
          "base_uri": "https://localhost:8080/"
        },
        "id": "2Qp0FalwDRLk",
        "outputId": "55364255-4c6b-488a-8bca-60fc0e92dae7"
      },
      "source": [
        "#Training the ANN\n",
        "\n",
        "ann.fit(x_train,y_train,batch_size=32,epochs=100)"
      ],
      "execution_count": null,
      "outputs": [
        {
          "output_type": "stream",
          "name": "stdout",
          "text": [
            "Epoch 1/100\n",
            "240/240 [==============================] - 1s 1ms/step - loss: 25.1246 - accuracy: 0.0000e+00\n",
            "Epoch 2/100\n",
            "240/240 [==============================] - 0s 1ms/step - loss: 24.8070 - accuracy: 0.0000e+00\n",
            "Epoch 3/100\n",
            "240/240 [==============================] - 0s 1ms/step - loss: 24.6189 - accuracy: 0.0000e+00\n",
            "Epoch 4/100\n",
            "240/240 [==============================] - 0s 1ms/step - loss: 25.0847 - accuracy: 0.0000e+00\n",
            "Epoch 5/100\n",
            "240/240 [==============================] - 0s 1ms/step - loss: 24.7477 - accuracy: 0.0000e+00\n",
            "Epoch 6/100\n",
            "240/240 [==============================] - 0s 1ms/step - loss: 24.8683 - accuracy: 0.0000e+00\n",
            "Epoch 7/100\n",
            "240/240 [==============================] - 0s 1ms/step - loss: 24.6509 - accuracy: 0.0000e+00\n",
            "Epoch 8/100\n",
            "240/240 [==============================] - 0s 1ms/step - loss: 25.0061 - accuracy: 0.0000e+00\n",
            "Epoch 9/100\n",
            "240/240 [==============================] - 0s 1ms/step - loss: 25.1275 - accuracy: 0.0000e+00\n",
            "Epoch 10/100\n",
            "240/240 [==============================] - 0s 1ms/step - loss: 25.5246 - accuracy: 0.0000e+00\n",
            "Epoch 11/100\n",
            "240/240 [==============================] - 0s 1ms/step - loss: 24.3869 - accuracy: 0.0000e+00\n",
            "Epoch 12/100\n",
            "240/240 [==============================] - 0s 1ms/step - loss: 25.4478 - accuracy: 0.0000e+00\n",
            "Epoch 13/100\n",
            "240/240 [==============================] - 0s 1ms/step - loss: 25.2098 - accuracy: 0.0000e+00\n",
            "Epoch 14/100\n",
            "240/240 [==============================] - 0s 1ms/step - loss: 24.5642 - accuracy: 0.0000e+00\n",
            "Epoch 15/100\n",
            "240/240 [==============================] - 0s 1ms/step - loss: 24.6041 - accuracy: 0.0000e+00\n",
            "Epoch 16/100\n",
            "240/240 [==============================] - 0s 1ms/step - loss: 24.8057 - accuracy: 0.0000e+00\n",
            "Epoch 17/100\n",
            "240/240 [==============================] - 0s 1ms/step - loss: 24.2688 - accuracy: 0.0000e+00\n",
            "Epoch 18/100\n",
            "240/240 [==============================] - 0s 1ms/step - loss: 24.7286 - accuracy: 0.0000e+00\n",
            "Epoch 19/100\n",
            "240/240 [==============================] - 0s 1ms/step - loss: 24.9335 - accuracy: 0.0000e+00\n",
            "Epoch 20/100\n",
            "240/240 [==============================] - 0s 1ms/step - loss: 25.4171 - accuracy: 0.0000e+00\n",
            "Epoch 21/100\n",
            "240/240 [==============================] - 0s 1ms/step - loss: 25.0266 - accuracy: 0.0000e+00\n",
            "Epoch 22/100\n",
            "240/240 [==============================] - 0s 1ms/step - loss: 24.9264 - accuracy: 0.0000e+00\n",
            "Epoch 23/100\n",
            "240/240 [==============================] - 0s 1ms/step - loss: 25.0062 - accuracy: 0.0000e+00\n",
            "Epoch 24/100\n",
            "240/240 [==============================] - 0s 1ms/step - loss: 24.1526 - accuracy: 0.0000e+00\n",
            "Epoch 25/100\n",
            "240/240 [==============================] - 0s 1ms/step - loss: 25.3843 - accuracy: 0.0000e+00\n",
            "Epoch 26/100\n",
            "240/240 [==============================] - 0s 1ms/step - loss: 24.9623 - accuracy: 0.0000e+00\n",
            "Epoch 27/100\n",
            "240/240 [==============================] - 0s 1ms/step - loss: 24.5485 - accuracy: 0.0000e+00\n",
            "Epoch 28/100\n",
            "240/240 [==============================] - 0s 1ms/step - loss: 24.5754 - accuracy: 0.0000e+00\n",
            "Epoch 29/100\n",
            "240/240 [==============================] - 0s 1ms/step - loss: 24.8711 - accuracy: 0.0000e+00\n",
            "Epoch 30/100\n",
            "240/240 [==============================] - 0s 1ms/step - loss: 24.7758 - accuracy: 0.0000e+00\n",
            "Epoch 31/100\n",
            "240/240 [==============================] - 0s 1ms/step - loss: 24.4006 - accuracy: 0.0000e+00\n",
            "Epoch 32/100\n",
            "240/240 [==============================] - 0s 1ms/step - loss: 24.2787 - accuracy: 0.0000e+00\n",
            "Epoch 33/100\n",
            "240/240 [==============================] - 0s 1ms/step - loss: 25.1707 - accuracy: 0.0000e+00\n",
            "Epoch 34/100\n",
            "240/240 [==============================] - 0s 1ms/step - loss: 24.5163 - accuracy: 0.0000e+00\n",
            "Epoch 35/100\n",
            "240/240 [==============================] - 0s 1ms/step - loss: 25.0303 - accuracy: 0.0000e+00\n",
            "Epoch 36/100\n",
            "240/240 [==============================] - 0s 1ms/step - loss: 25.9140 - accuracy: 0.0000e+00\n",
            "Epoch 37/100\n",
            "240/240 [==============================] - 0s 1ms/step - loss: 24.8024 - accuracy: 0.0000e+00\n",
            "Epoch 38/100\n",
            "240/240 [==============================] - 0s 1ms/step - loss: 25.0031 - accuracy: 0.0000e+00\n",
            "Epoch 39/100\n",
            "240/240 [==============================] - 0s 1ms/step - loss: 25.1359 - accuracy: 0.0000e+00\n",
            "Epoch 40/100\n",
            "240/240 [==============================] - 0s 1ms/step - loss: 24.2504 - accuracy: 0.0000e+00\n",
            "Epoch 41/100\n",
            "240/240 [==============================] - 0s 1ms/step - loss: 24.3572 - accuracy: 0.0000e+00\n",
            "Epoch 42/100\n",
            "240/240 [==============================] - 0s 1ms/step - loss: 24.7200 - accuracy: 0.0000e+00\n",
            "Epoch 43/100\n",
            "240/240 [==============================] - 0s 1ms/step - loss: 25.2987 - accuracy: 0.0000e+00\n",
            "Epoch 44/100\n",
            "240/240 [==============================] - 0s 1ms/step - loss: 25.5157 - accuracy: 0.0000e+00\n",
            "Epoch 45/100\n",
            "240/240 [==============================] - 0s 1ms/step - loss: 25.1167 - accuracy: 0.0000e+00\n",
            "Epoch 46/100\n",
            "240/240 [==============================] - 0s 1ms/step - loss: 24.5572 - accuracy: 0.0000e+00\n",
            "Epoch 47/100\n",
            "240/240 [==============================] - 0s 1ms/step - loss: 24.1415 - accuracy: 0.0000e+00\n",
            "Epoch 48/100\n",
            "240/240 [==============================] - 0s 1ms/step - loss: 24.6648 - accuracy: 0.0000e+00\n",
            "Epoch 49/100\n",
            "240/240 [==============================] - 0s 1ms/step - loss: 25.2425 - accuracy: 0.0000e+00\n",
            "Epoch 50/100\n",
            "240/240 [==============================] - 0s 1ms/step - loss: 24.5931 - accuracy: 0.0000e+00\n",
            "Epoch 51/100\n",
            "240/240 [==============================] - 0s 1ms/step - loss: 24.3957 - accuracy: 0.0000e+00\n",
            "Epoch 52/100\n",
            "240/240 [==============================] - 0s 1ms/step - loss: 24.2333 - accuracy: 0.0000e+00\n",
            "Epoch 53/100\n",
            "240/240 [==============================] - 0s 1ms/step - loss: 25.9444 - accuracy: 0.0000e+00\n",
            "Epoch 54/100\n",
            "240/240 [==============================] - 0s 1ms/step - loss: 25.7975 - accuracy: 0.0000e+00\n",
            "Epoch 55/100\n",
            "240/240 [==============================] - 0s 1ms/step - loss: 24.5455 - accuracy: 0.0000e+00\n",
            "Epoch 56/100\n",
            "240/240 [==============================] - 0s 1ms/step - loss: 24.3294 - accuracy: 0.0000e+00\n",
            "Epoch 57/100\n",
            "240/240 [==============================] - 0s 1ms/step - loss: 25.2213 - accuracy: 0.0000e+00\n",
            "Epoch 58/100\n",
            "240/240 [==============================] - 0s 1ms/step - loss: 24.9754 - accuracy: 0.0000e+00\n",
            "Epoch 59/100\n",
            "240/240 [==============================] - 0s 1ms/step - loss: 25.2583 - accuracy: 0.0000e+00\n",
            "Epoch 60/100\n",
            "240/240 [==============================] - 0s 1ms/step - loss: 24.6534 - accuracy: 0.0000e+00\n",
            "Epoch 61/100\n",
            "240/240 [==============================] - 0s 1ms/step - loss: 25.1983 - accuracy: 0.0000e+00\n",
            "Epoch 62/100\n",
            "240/240 [==============================] - 0s 1ms/step - loss: 24.6844 - accuracy: 0.0000e+00\n",
            "Epoch 63/100\n",
            "240/240 [==============================] - 0s 1ms/step - loss: 24.0806 - accuracy: 0.0000e+00\n",
            "Epoch 64/100\n",
            "240/240 [==============================] - 0s 1ms/step - loss: 24.6213 - accuracy: 0.0000e+00\n",
            "Epoch 65/100\n",
            "240/240 [==============================] - 0s 1ms/step - loss: 24.2903 - accuracy: 0.0000e+00\n",
            "Epoch 66/100\n",
            "240/240 [==============================] - 0s 1ms/step - loss: 24.8892 - accuracy: 0.0000e+00\n",
            "Epoch 67/100\n",
            "240/240 [==============================] - 0s 1ms/step - loss: 24.8670 - accuracy: 0.0000e+00\n",
            "Epoch 68/100\n",
            "240/240 [==============================] - 0s 1ms/step - loss: 25.6564 - accuracy: 0.0000e+00\n",
            "Epoch 69/100\n",
            "240/240 [==============================] - 0s 1ms/step - loss: 25.1767 - accuracy: 0.0000e+00\n",
            "Epoch 70/100\n",
            "240/240 [==============================] - 0s 1ms/step - loss: 24.8129 - accuracy: 0.0000e+00\n",
            "Epoch 71/100\n",
            "240/240 [==============================] - 0s 1ms/step - loss: 24.7867 - accuracy: 0.0000e+00\n",
            "Epoch 72/100\n",
            "240/240 [==============================] - 0s 1ms/step - loss: 25.0022 - accuracy: 0.0000e+00\n",
            "Epoch 73/100\n",
            "240/240 [==============================] - 0s 1ms/step - loss: 24.4851 - accuracy: 0.0000e+00\n",
            "Epoch 74/100\n",
            "240/240 [==============================] - 0s 1ms/step - loss: 26.0772 - accuracy: 0.0000e+00\n",
            "Epoch 75/100\n",
            "240/240 [==============================] - 0s 1ms/step - loss: 24.5950 - accuracy: 0.0000e+00\n",
            "Epoch 76/100\n",
            "240/240 [==============================] - 0s 1ms/step - loss: 24.2617 - accuracy: 0.0000e+00\n",
            "Epoch 77/100\n",
            "240/240 [==============================] - 0s 1ms/step - loss: 24.4808 - accuracy: 0.0000e+00\n",
            "Epoch 78/100\n",
            "240/240 [==============================] - 0s 1ms/step - loss: 24.9568 - accuracy: 0.0000e+00\n",
            "Epoch 79/100\n",
            "240/240 [==============================] - 0s 1ms/step - loss: 24.8501 - accuracy: 0.0000e+00\n",
            "Epoch 80/100\n",
            "240/240 [==============================] - 0s 1ms/step - loss: 24.5792 - accuracy: 0.0000e+00\n",
            "Epoch 81/100\n",
            "240/240 [==============================] - 0s 1ms/step - loss: 25.2759 - accuracy: 0.0000e+00\n",
            "Epoch 82/100\n",
            "240/240 [==============================] - 0s 1ms/step - loss: 24.4237 - accuracy: 0.0000e+00\n",
            "Epoch 83/100\n",
            "240/240 [==============================] - 0s 1ms/step - loss: 26.2067 - accuracy: 0.0000e+00\n",
            "Epoch 84/100\n",
            "240/240 [==============================] - 0s 1ms/step - loss: 24.5888 - accuracy: 0.0000e+00\n",
            "Epoch 85/100\n",
            "240/240 [==============================] - 0s 1ms/step - loss: 24.9170 - accuracy: 0.0000e+00\n",
            "Epoch 86/100\n",
            "240/240 [==============================] - 0s 1ms/step - loss: 25.4748 - accuracy: 0.0000e+00\n",
            "Epoch 87/100\n",
            "240/240 [==============================] - 0s 1ms/step - loss: 24.8807 - accuracy: 0.0000e+00\n",
            "Epoch 88/100\n",
            "240/240 [==============================] - 0s 1ms/step - loss: 24.4975 - accuracy: 0.0000e+00\n",
            "Epoch 89/100\n",
            "240/240 [==============================] - 0s 1ms/step - loss: 25.7056 - accuracy: 0.0000e+00\n",
            "Epoch 90/100\n",
            "240/240 [==============================] - 0s 1ms/step - loss: 24.4665 - accuracy: 0.0000e+00\n",
            "Epoch 91/100\n",
            "240/240 [==============================] - 0s 1ms/step - loss: 24.4587 - accuracy: 0.0000e+00\n",
            "Epoch 92/100\n",
            "240/240 [==============================] - 0s 1ms/step - loss: 24.9073 - accuracy: 0.0000e+00\n",
            "Epoch 93/100\n",
            "240/240 [==============================] - 0s 1ms/step - loss: 24.4149 - accuracy: 0.0000e+00\n",
            "Epoch 94/100\n",
            "240/240 [==============================] - 0s 1ms/step - loss: 24.7405 - accuracy: 0.0000e+00\n",
            "Epoch 95/100\n",
            "240/240 [==============================] - 0s 1ms/step - loss: 24.4524 - accuracy: 0.0000e+00\n",
            "Epoch 96/100\n",
            "240/240 [==============================] - 0s 1ms/step - loss: 25.2723 - accuracy: 0.0000e+00\n",
            "Epoch 97/100\n",
            "240/240 [==============================] - 0s 1ms/step - loss: 24.5256 - accuracy: 0.0000e+00\n",
            "Epoch 98/100\n",
            "240/240 [==============================] - 0s 1ms/step - loss: 25.6835 - accuracy: 0.0000e+00\n",
            "Epoch 99/100\n",
            "240/240 [==============================] - 0s 1ms/step - loss: 24.9511 - accuracy: 0.0000e+00\n",
            "Epoch 100/100\n",
            "240/240 [==============================] - 0s 1ms/step - loss: 25.0945 - accuracy: 0.0000e+00\n"
          ]
        },
        {
          "output_type": "execute_result",
          "data": {
            "text/plain": [
              "<keras.callbacks.History at 0x7f73bead5250>"
            ]
          },
          "metadata": {},
          "execution_count": 31
        }
      ]
    },
    {
      "cell_type": "code",
      "metadata": {
        "colab": {
          "base_uri": "https://localhost:8080/"
        },
        "id": "IwEoyjhPDbgQ",
        "outputId": "69a4fb93-f5cd-49dd-8ff5-22214ccaf0cb"
      },
      "source": [
        "#predicting the result of test set\n",
        "\n",
        "y_pred=ann.predict(x_test)\n",
        "np.set_printoptions(precision=2)\n",
        "print(np.concatenate((y_pred.reshape(len(y_pred),1), y_test.reshape(len(y_test),1)),1))"
      ],
      "execution_count": null,
      "outputs": [
        {
          "output_type": "stream",
          "name": "stdout",
          "text": [
            "[[432.01 431.23]\n",
            " [460.89 460.01]\n",
            " [466.23 461.14]\n",
            " ...\n",
            " [473.14 473.26]\n",
            " [439.59 438.  ]\n",
            " [457.67 463.28]]\n"
          ]
        }
      ]
    },
    {
      "cell_type": "code",
      "metadata": {
        "id": "H8tmILZkFAiG"
      },
      "source": [
        ""
      ],
      "execution_count": null,
      "outputs": []
    }
  ]
}