{
  "nbformat": 4,
  "nbformat_minor": 0,
  "metadata": {
    "colab": {
      "name": "Dog_vs_Cat_CNN.ipynb",
      "provenance": [],
      "authorship_tag": "ABX9TyO9F9xTK89i8RfJLFr2bzN8",
      "include_colab_link": true
    },
    "kernelspec": {
      "name": "python3",
      "display_name": "Python 3"
    },
    "language_info": {
      "name": "python"
    },
    "accelerator": "GPU"
  },
  "cells": [
    {
      "cell_type": "markdown",
      "metadata": {
        "id": "view-in-github",
        "colab_type": "text"
      },
      "source": [
        "<a href=\"https://colab.research.google.com/github/John260260/Deep_Learning/blob/main/Dog_vs_Cat_CNN.ipynb\" target=\"_parent\"><img src=\"https://colab.research.google.com/assets/colab-badge.svg\" alt=\"Open In Colab\"/></a>"
      ]
    },
    {
      "cell_type": "code",
      "execution_count": null,
      "metadata": {
        "colab": {
          "base_uri": "https://localhost:8080/"
        },
        "id": "2qq_4vscTTDU",
        "outputId": "b83fd4f9-4e19-4772-bc15-7a7745bb4885"
      },
      "outputs": [
        {
          "output_type": "stream",
          "name": "stdout",
          "text": [
            "Cloning into 'Dog-or-Cat-Prediction-using-CNN-Model'...\n",
            "remote: Enumerating objects: 10024, done.\u001b[K\n",
            "remote: Counting objects: 100% (6/6), done.\u001b[K\n",
            "remote: Compressing objects: 100% (6/6), done.\u001b[K\n",
            "remote: Total 10024 (delta 1), reused 1 (delta 0), pack-reused 10018\u001b[K\n",
            "Receiving objects: 100% (10024/10024), 216.40 MiB | 13.95 MiB/s, done.\n",
            "Resolving deltas: 100% (4/4), done.\n",
            "Checking out files: 100% (10008/10008), done.\n"
          ]
        }
      ],
      "source": [
        "! git clone https://github.com/alokproc/Dog-or-Cat-Prediction-using-CNN-Model.git"
      ]
    },
    {
      "cell_type": "code",
      "source": [
        "cd Dog-or-Cat-Prediction-using-CNN-Model/"
      ],
      "metadata": {
        "colab": {
          "base_uri": "https://localhost:8080/"
        },
        "id": "NLdk1Uf6bLDb",
        "outputId": "adacde77-8f68-4c33-ad26-32667a2a0347"
      },
      "execution_count": null,
      "outputs": [
        {
          "output_type": "stream",
          "name": "stdout",
          "text": [
            "/content/Dog-or-Cat-Prediction-using-CNN-Model\n"
          ]
        }
      ]
    },
    {
      "cell_type": "code",
      "source": [
        "ls"
      ],
      "metadata": {
        "colab": {
          "base_uri": "https://localhost:8080/"
        },
        "id": "LgCgfBhRc7zt",
        "outputId": "df536954-1c1e-4581-99a7-56bd84f50c54"
      },
      "execution_count": null,
      "outputs": [
        {
          "output_type": "stream",
          "name": "stdout",
          "text": [
            "\u001b[0m\u001b[01;34mdataset\u001b[0m/  dog_or_cat_prediction.ipynb  README.md\n"
          ]
        }
      ]
    },
    {
      "cell_type": "code",
      "source": [
        "# Importing Libraries\n",
        "import tensorflow as tf\n",
        "from keras.preprocessing.image import ImageDataGenerator\n",
        "from PIL import Image"
      ],
      "metadata": {
        "id": "4Sl24sIqc8qL"
      },
      "execution_count": null,
      "outputs": []
    },
    {
      "cell_type": "markdown",
      "source": [
        " Preprocessing Data"
      ],
      "metadata": {
        "id": "_jOoAkReeEg0"
      }
    },
    {
      "cell_type": "code",
      "source": [
        "train_datagen= ImageDataGenerator(rescale=1./255, shear_range=0.2,zoom_range=0.2,horizontal_flip=True)\n",
        "training_set= train_datagen.flow_from_directory('dataset/training_set',target_size=(64,64),batch_size=32,class_mode='binary')"
      ],
      "metadata": {
        "colab": {
          "base_uri": "https://localhost:8080/"
        },
        "id": "Vruqx_FNd9Qr",
        "outputId": "5ff60a39-1c8f-4432-d218-b3541f662839"
      },
      "execution_count": null,
      "outputs": [
        {
          "output_type": "stream",
          "name": "stdout",
          "text": [
            "Found 8000 images belonging to 2 classes.\n"
          ]
        }
      ]
    },
    {
      "cell_type": "code",
      "source": [
        "test_datagen=ImageDataGenerator(rescale=1./255)\n",
        "test_set=test_datagen.flow_from_directory('dataset/test_set',target_size=(64,64),batch_size=32,class_mode='binary')\n"
      ],
      "metadata": {
        "colab": {
          "base_uri": "https://localhost:8080/"
        },
        "id": "VdjD8h1agEY_",
        "outputId": "c27c4bc5-f4a5-4940-fafb-611e6ec1af34"
      },
      "execution_count": null,
      "outputs": [
        {
          "output_type": "stream",
          "name": "stdout",
          "text": [
            "Found 2000 images belonging to 2 classes.\n"
          ]
        }
      ]
    },
    {
      "cell_type": "markdown",
      "source": [
        "Building CNN"
      ],
      "metadata": {
        "id": "BYsComHsjHoL"
      }
    },
    {
      "cell_type": "code",
      "source": [
        "# initializing CNN\n",
        "cnn=tf.keras.models.Sequential()"
      ],
      "metadata": {
        "id": "0bAkSSCckKhF"
      },
      "execution_count": null,
      "outputs": []
    },
    {
      "cell_type": "code",
      "source": [
        "# Step 1- convolution layer\n",
        "cnn.add(tf.keras.layers.Conv2D(filters=32,kernel_size=3,activation='relu',input_shape=[64,64,3]))"
      ],
      "metadata": {
        "id": "aTQSGBlNhPbt"
      },
      "execution_count": null,
      "outputs": []
    },
    {
      "cell_type": "code",
      "source": [
        "# Step 2- pooling\n",
        "cnn.add(tf.keras.layers.MaxPool2D(pool_size=2, strides=1))"
      ],
      "metadata": {
        "id": "MjvCWyYmkBmI"
      },
      "execution_count": null,
      "outputs": []
    },
    {
      "cell_type": "code",
      "source": [
        "#Adding a second convolutional layer\n",
        "cnn.add(tf.keras.layers.Conv2D(filters=32,kernel_size=3,activation='relu'))\n",
        "cnn.add(tf.keras.layers.MaxPool2D(pool_size=2, strides=1))\n"
      ],
      "metadata": {
        "id": "bxEvLgPckqfH"
      },
      "execution_count": null,
      "outputs": []
    },
    {
      "cell_type": "code",
      "source": [
        "#Step 3- Flattening\n",
        "cnn.add(tf.keras.layers.Flatten())"
      ],
      "metadata": {
        "id": "DHZgG6OhlCia"
      },
      "execution_count": null,
      "outputs": []
    },
    {
      "cell_type": "code",
      "source": [
        "# Step 4- Full Connection\n",
        "cnn.add(tf.keras.layers.Dense(128,activation='relu'))"
      ],
      "metadata": {
        "id": "ju2Dx0HZlMhy"
      },
      "execution_count": null,
      "outputs": []
    },
    {
      "cell_type": "code",
      "source": [
        "# Step 5- Output Layer\n",
        "cnn.add(tf.keras.layers.Dense(units=1,activation='sigmoid'))"
      ],
      "metadata": {
        "id": "Edbxkcl3ln6L"
      },
      "execution_count": null,
      "outputs": []
    },
    {
      "cell_type": "code",
      "source": [
        "# compiling CNN\n",
        "cnn.compile(optimizer='adam',loss='binary_crossentropy',metrics=['accuracy'])"
      ],
      "metadata": {
        "id": "fc_nc6Ill0m0"
      },
      "execution_count": null,
      "outputs": []
    },
    {
      "cell_type": "code",
      "source": [
        "# Fitting the model\n",
        "cnn.fit(x= training_set, validation_data=test_set,epochs=26)"
      ],
      "metadata": {
        "colab": {
          "base_uri": "https://localhost:8080/"
        },
        "id": "jCPMd37hmJCJ",
        "outputId": "aaf54e9a-d937-4ccf-a9ee-216cfb2cf404"
      },
      "execution_count": null,
      "outputs": [
        {
          "output_type": "stream",
          "name": "stdout",
          "text": [
            "Epoch 1/26\n",
            "250/250 [==============================] - 48s 156ms/step - loss: 0.6876 - accuracy: 0.6018 - val_loss: 0.6394 - val_accuracy: 0.6435\n",
            "Epoch 2/26\n",
            "250/250 [==============================] - 39s 155ms/step - loss: 0.6206 - accuracy: 0.6609 - val_loss: 0.5775 - val_accuracy: 0.6915\n",
            "Epoch 3/26\n",
            "250/250 [==============================] - 39s 154ms/step - loss: 0.5783 - accuracy: 0.6955 - val_loss: 0.5423 - val_accuracy: 0.7405\n",
            "Epoch 4/26\n",
            "250/250 [==============================] - 39s 157ms/step - loss: 0.5548 - accuracy: 0.7126 - val_loss: 0.5975 - val_accuracy: 0.7045\n",
            "Epoch 5/26\n",
            "250/250 [==============================] - 39s 156ms/step - loss: 0.5207 - accuracy: 0.7381 - val_loss: 0.5115 - val_accuracy: 0.7565\n",
            "Epoch 6/26\n",
            "250/250 [==============================] - 39s 155ms/step - loss: 0.5076 - accuracy: 0.7461 - val_loss: 0.6315 - val_accuracy: 0.6950\n",
            "Epoch 7/26\n",
            "250/250 [==============================] - 39s 156ms/step - loss: 0.4736 - accuracy: 0.7660 - val_loss: 0.5398 - val_accuracy: 0.7400\n",
            "Epoch 8/26\n",
            "250/250 [==============================] - 39s 158ms/step - loss: 0.4579 - accuracy: 0.7799 - val_loss: 0.5542 - val_accuracy: 0.7280\n",
            "Epoch 9/26\n",
            "250/250 [==============================] - 39s 157ms/step - loss: 0.4411 - accuracy: 0.7972 - val_loss: 0.5576 - val_accuracy: 0.7465\n",
            "Epoch 10/26\n",
            "250/250 [==============================] - 39s 157ms/step - loss: 0.4054 - accuracy: 0.8123 - val_loss: 0.6077 - val_accuracy: 0.7315\n",
            "Epoch 11/26\n",
            "250/250 [==============================] - 39s 156ms/step - loss: 0.3778 - accuracy: 0.8289 - val_loss: 0.5005 - val_accuracy: 0.7700\n",
            "Epoch 12/26\n",
            "250/250 [==============================] - 38s 152ms/step - loss: 0.3649 - accuracy: 0.8384 - val_loss: 0.5469 - val_accuracy: 0.7490\n",
            "Epoch 13/26\n",
            "250/250 [==============================] - 38s 152ms/step - loss: 0.3382 - accuracy: 0.8518 - val_loss: 0.5668 - val_accuracy: 0.7695\n",
            "Epoch 14/26\n",
            "250/250 [==============================] - 38s 151ms/step - loss: 0.3159 - accuracy: 0.8673 - val_loss: 0.5509 - val_accuracy: 0.7735\n",
            "Epoch 15/26\n",
            "250/250 [==============================] - 38s 151ms/step - loss: 0.3032 - accuracy: 0.8723 - val_loss: 0.5840 - val_accuracy: 0.7790\n",
            "Epoch 16/26\n",
            "250/250 [==============================] - 38s 151ms/step - loss: 0.2845 - accuracy: 0.8789 - val_loss: 0.5807 - val_accuracy: 0.7715\n",
            "Epoch 17/26\n",
            "250/250 [==============================] - 38s 152ms/step - loss: 0.2563 - accuracy: 0.8981 - val_loss: 0.6027 - val_accuracy: 0.7815\n",
            "Epoch 18/26\n",
            "250/250 [==============================] - 38s 150ms/step - loss: 0.2471 - accuracy: 0.8955 - val_loss: 0.6931 - val_accuracy: 0.7750\n",
            "Epoch 19/26\n",
            "250/250 [==============================] - 38s 151ms/step - loss: 0.2319 - accuracy: 0.9053 - val_loss: 0.6715 - val_accuracy: 0.7640\n",
            "Epoch 20/26\n",
            "250/250 [==============================] - 38s 152ms/step - loss: 0.2232 - accuracy: 0.9097 - val_loss: 0.6587 - val_accuracy: 0.7670\n",
            "Epoch 21/26\n",
            "250/250 [==============================] - 37s 149ms/step - loss: 0.1972 - accuracy: 0.9209 - val_loss: 0.7686 - val_accuracy: 0.7655\n",
            "Epoch 22/26\n",
            "250/250 [==============================] - 37s 147ms/step - loss: 0.1863 - accuracy: 0.9241 - val_loss: 0.7371 - val_accuracy: 0.7640\n",
            "Epoch 23/26\n",
            "250/250 [==============================] - 37s 146ms/step - loss: 0.1834 - accuracy: 0.9319 - val_loss: 0.8411 - val_accuracy: 0.7515\n",
            "Epoch 24/26\n",
            "250/250 [==============================] - 37s 150ms/step - loss: 0.1860 - accuracy: 0.9261 - val_loss: 0.6885 - val_accuracy: 0.7895\n",
            "Epoch 25/26\n",
            "250/250 [==============================] - 40s 161ms/step - loss: 0.1651 - accuracy: 0.9381 - val_loss: 0.8739 - val_accuracy: 0.7495\n",
            "Epoch 26/26\n",
            "250/250 [==============================] - 41s 165ms/step - loss: 0.1384 - accuracy: 0.9485 - val_loss: 0.9310 - val_accuracy: 0.7525\n"
          ]
        },
        {
          "output_type": "execute_result",
          "data": {
            "text/plain": [
              "<keras.callbacks.History at 0x7f56362edfd0>"
            ]
          },
          "metadata": {},
          "execution_count": 30
        }
      ]
    },
    {
      "cell_type": "code",
      "source": [
        "# Making prediction\n",
        "# single Prediction\n",
        "\n",
        "import numpy as np\n",
        "from keras.preprocessing import image\n",
        "test_image=image.load_img('dataset/single_prediction/cat_or_dog_1.jpg',target_size=(64,64))\n",
        "test_image= image.img_to_array(test_image)\n",
        "test_image=np.expand_dims(test_image, axis=0)\n",
        "result=cnn.predict(test_image)\n",
        "training_set.class_indices\n",
        "if result[0][0]==1:\n",
        "  prediction='dog'\n",
        "else:\n",
        "  prediction='cat'\n",
        "print(prediction)"
      ],
      "metadata": {
        "colab": {
          "base_uri": "https://localhost:8080/"
        },
        "id": "r8mNV4CPmdQf",
        "outputId": "285d0c07-efe3-47e1-93b4-b78eb1f8de9f"
      },
      "execution_count": null,
      "outputs": [
        {
          "output_type": "stream",
          "name": "stdout",
          "text": [
            "dog\n"
          ]
        }
      ]
    },
    {
      "cell_type": "code",
      "source": [
        "# Making prediction\n",
        "# single Prediction\n",
        "\n",
        "import numpy as np\n",
        "from keras.preprocessing import image\n",
        "test_image=image.load_img('dataset/single_prediction/cat_or_dog_2.jpg',target_size=(64,64))\n",
        "test_image= image.img_to_array(test_image)\n",
        "test_image=np.expand_dims(test_image, axis=0)\n",
        "result=cnn.predict(test_image)\n",
        "training_set.class_indices\n",
        "if result[0][0]==1:\n",
        "  prediction='dog'\n",
        "else:\n",
        "  prediction='cat'\n",
        "print(prediction)"
      ],
      "metadata": {
        "colab": {
          "base_uri": "https://localhost:8080/"
        },
        "id": "maYjCSkes9gx",
        "outputId": "dc2440bc-aea7-44db-d821-d51d2a916768"
      },
      "execution_count": null,
      "outputs": [
        {
          "output_type": "stream",
          "name": "stdout",
          "text": [
            "dog\n"
          ]
        }
      ]
    },
    {
      "cell_type": "code",
      "source": [
        ""
      ],
      "metadata": {
        "id": "PyuMQUj_uAyw"
      },
      "execution_count": null,
      "outputs": []
    }
  ]
}